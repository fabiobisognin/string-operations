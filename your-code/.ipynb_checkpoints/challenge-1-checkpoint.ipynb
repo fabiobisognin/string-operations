{
 "cells": [
  {
   "cell_type": "markdown",
   "metadata": {},
   "source": [
    "# String Operations Lab\n",
    "\n",
    "**Before your start:**\n",
    "\n",
    "- Read the README.md file\n",
    "- Comment as much as you can and use the resources in the README.md file\n",
    "- Happy learning!"
   ]
  },
  {
   "cell_type": "code",
   "execution_count": 4,
   "metadata": {},
   "outputs": [],
   "source": [
    "import re"
   ]
  },
  {
   "cell_type": "markdown",
   "metadata": {},
   "source": [
    "# Challenge 1 - Combining Strings\n",
    "\n",
    "Combining strings is an important skill to acquire. There are multiple ways of combining strings in Python, as well as combining strings with variables. We will explore this in the first challenge. In the cell below, combine the strings in the list and add spaces between the strings (do not add a space after the last string). Insert a period after the last string."
   ]
  },
  {
   "cell_type": "code",
   "execution_count": 5,
   "metadata": {},
   "outputs": [
    {
     "data": {
      "text/plain": [
       "'Durante un tiempo no estuvo segura de si su marido era su marido'"
      ]
     },
     "execution_count": 5,
     "metadata": {},
     "output_type": "execute_result"
    }
   ],
   "source": [
    "str_list = ['Durante', 'un', 'tiempo', 'no', 'estuvo', 'segura', 'de', 'si', 'su', 'marido', 'era', 'su', 'marido']\n",
    "# Your code here:\n",
    "' '.join(str_list)"
   ]
  },
  {
   "cell_type": "markdown",
   "metadata": {},
   "source": [
    "In the cell below, use the list of strings to create a grocery list. Start the list with the string `Grocery list: ` and include a comma and a space between each item except for the last one. Include a period at the end. Only include foods in the list that start with the letter 'b' and ensure all foods are lower case."
   ]
  },
  {
   "cell_type": "code",
   "execution_count": 6,
   "metadata": {},
   "outputs": [],
   "source": [
    "food_list = ['Bananas', 'Chocolate', 'bread', 'diapers', 'Ice Cream', 'Brownie Mix', 'broccoli']\n",
    "# Your code here:\n",
    "\n",
    "food_str='-'.join(food_list)\n"
   ]
  },
  {
   "cell_type": "code",
   "execution_count": 7,
   "metadata": {},
   "outputs": [
    {
     "data": {
      "text/plain": [
       "'bananas-chocolate-bread-diapers-ice cream-brownie mix-broccoli'"
      ]
     },
     "execution_count": 7,
     "metadata": {},
     "output_type": "execute_result"
    }
   ],
   "source": [
    "S = (food_str.lower())\n",
    "S"
   ]
  },
  {
   "cell_type": "code",
   "execution_count": 8,
   "metadata": {},
   "outputs": [
    {
     "data": {
      "text/plain": [
       "['bananas', 'bread', 'brownie', 'broccoli']"
      ]
     },
     "execution_count": 8,
     "metadata": {},
     "output_type": "execute_result"
    }
   ],
   "source": [
    "B = re.findall(r'[b]\\w+', S)\n",
    "B"
   ]
  },
  {
   "cell_type": "code",
   "execution_count": 9,
   "metadata": {},
   "outputs": [
    {
     "name": "stdout",
     "output_type": "stream",
     "text": [
      "['Grocery_list: ', 'bananas', 'bread', 'brownie', 'broccoli']\n"
     ]
    }
   ],
   "source": [
    "Gr_lst=['Grocery_list: ']\n",
    "\n",
    "for b in B:\n",
    "    Gr_lst.append(b)\n",
    "    \n",
    "print(Gr_lst)"
   ]
  },
  {
   "cell_type": "markdown",
   "metadata": {},
   "source": [
    "In the cell below, write a function that computes the area of a circle using its radius. Compute the area of the circle and insert the radius and the area between the two strings. Make sure to include spaces between the variable and the strings. \n",
    "\n",
    "Note: You can use the techniques we have learned so far or use f-strings. F-strings allow us to embed code inside strings. You can read more about f-strings [here](https://www.python.org/dev/peps/pep-0498/)."
   ]
  },
  {
   "cell_type": "code",
   "execution_count": 10,
   "metadata": {},
   "outputs": [
    {
     "data": {
      "text/plain": [
       "'The area of the circle with radius: 4.5 is: 63.61725123519331.'"
      ]
     },
     "execution_count": 10,
     "metadata": {},
     "output_type": "execute_result"
    }
   ],
   "source": [
    "import math\n",
    "\n",
    "string1 = \"The area of the circle with radius:\"\n",
    "string2  = \"is:\"\n",
    "radius = 4.5\n",
    "\n",
    "def area(x, pi = math.pi):\n",
    "    return x**2 *pi\n",
    "\n",
    "area4=area(4.5, pi = math.pi)\n",
    "(f\"{string1} {radius} {string2} {area4}.\")\n",
    "    "
   ]
  },
  {
   "cell_type": "markdown",
   "metadata": {},
   "source": [
    "# Challenge 2 - Splitting Strings\n",
    "\n",
    "We have first looked at combining strings into one long string. There are times where we need to do the opposite and split the string into smaller components for further analysis. \n",
    "\n",
    "In the cell below, split the string into a list of strings using the space delimiter. Count the frequency of each word in the string in a dictionary. Strip the periods, line breaks and commas from the text. Make sure to remove empty strings from your dictionary."
   ]
  },
  {
   "cell_type": "code",
   "execution_count": 11,
   "metadata": {},
   "outputs": [],
   "source": [
    "poem = \"\"\"Some say the world will end in fire,\n",
    "Some say in ice.\n",
    "From what I’ve tasted of desire\n",
    "I hold with those who favor fire.\n",
    "But if it had to perish twice,\n",
    "I think I know enough of hate\n",
    "To say that for destruction ice\n",
    "Is also great\n",
    "And would suffice.\"\"\"\n",
    "\n",
    "# Your code here:\n",
    "poem_lst=re.split(\"( )\", poem)\n"
   ]
  },
  {
   "cell_type": "code",
   "execution_count": 12,
   "metadata": {},
   "outputs": [
    {
     "name": "stdout",
     "output_type": "stream",
     "text": [
      "dict_keys(['Some', ' ', 'say', 'the', 'world', 'will', 'end', 'in', 'fire,\\nSome', 'ice.\\nFrom', 'what', 'I’ve', 'tasted', 'of', 'desire\\nI', 'hold', 'with', 'those', 'who', 'favor', 'fire.\\nBut', 'if', 'it', 'had', 'to', 'perish', 'twice,\\nI', 'think', 'I', 'know', 'enough', 'hate\\nTo', 'that', 'for', 'destruction', 'ice\\nIs', 'also', 'great\\nAnd', 'would', 'suffice.']) dict_values([1, 42, 3, 1, 1, 1, 1, 2, 1, 1, 1, 1, 1, 2, 1, 1, 1, 1, 1, 1, 1, 1, 1, 1, 1, 1, 1, 1, 1, 1, 1, 1, 1, 1, 1, 1, 1, 1, 1, 1])\n"
     ]
    }
   ],
   "source": [
    "from collections import Counter\n",
    "freq_list = Counter(poem_lst)\n",
    "\n",
    "n, m = freq_list.keys(), freq_list.values()\n",
    "print(n, m)"
   ]
  },
  {
   "cell_type": "code",
   "execution_count": 17,
   "metadata": {},
   "outputs": [],
   "source": [
    "keys = list(n)\n",
    "values=list(m)"
   ]
  },
  {
   "cell_type": "code",
   "execution_count": 19,
   "metadata": {},
   "outputs": [
    {
     "name": "stdout",
     "output_type": "stream",
     "text": [
      "{'Some': 1, ' ': 42, 'say': 3, 'the': 1, 'world': 1, 'will': 1, 'end': 1, 'in': 2, 'fire,\\nSome': 1, 'ice.\\nFrom': 1, 'what': 1, 'I’ve': 1, 'tasted': 1, 'of': 2, 'desire\\nI': 1, 'hold': 1, 'with': 1, 'those': 1, 'who': 1, 'favor': 1, 'fire.\\nBut': 1, 'if': 1, 'it': 1, 'had': 1, 'to': 1, 'perish': 1, 'twice,\\nI': 1, 'think': 1, 'I': 1, 'know': 1, 'enough': 1, 'hate\\nTo': 1, 'that': 1, 'for': 1, 'destruction': 1, 'ice\\nIs': 1, 'also': 1, 'great\\nAnd': 1, 'would': 1, 'suffice.': 1}\n"
     ]
    }
   ],
   "source": [
    "res = {keys[i]: values[i] for i in range(len(keys))}\n",
    "print(res)"
   ]
  },
  {
   "cell_type": "markdown",
   "metadata": {},
   "source": [
    "In the cell below, find all the words that appear in the text and do not appear in the blacklist. You must parse the string but can choose any data structure you wish for the words that do not appear in the blacklist. Remove all non letter characters and convert all words to lower case."
   ]
  },
  {
   "cell_type": "code",
   "execution_count": 24,
   "metadata": {},
   "outputs": [],
   "source": [
    "blacklist = ['and', 'as', 'an', 'a', 'the', 'in', 'it']\n",
    "\n",
    "poem = \"\"\"I was angry with my friend; \n",
    "I told my wrath, my wrath did end.\n",
    "I was angry with my foe: \n",
    "I told it not, my wrath did grow. \n",
    "\n",
    "And I waterd it in fears,\n",
    "Night & morning with my tears: \n",
    "And I sunned it with smiles,\n",
    "And with soft deceitful wiles. \n",
    "\n",
    "And it grew both day and night. \n",
    "Till it bore an apple bright. \n",
    "And my foe beheld it shine,\n",
    "And he knew that it was mine. \n",
    "\n",
    "And into my garden stole, \n",
    "When the night had veild the pole; \n",
    "In the morning glad I see; \n",
    "My foe outstretched beneath the tree.\"\"\"\n",
    "\n",
    "# Your code here:"
   ]
  },
  {
   "cell_type": "code",
   "execution_count": 46,
   "metadata": {
    "scrolled": true
   },
   "outputs": [
    {
     "data": {
      "text/plain": [
       "'i was angry with my friend; \\ni told my wrath, my wrath did end.\\ni was angry with my foe: \\ni told it not, my wrath did grow. \\n\\nand i waterd it in fears,\\nnight & morning with my tears: \\nand i sunned it with smiles,\\nand with soft deceitful wiles. \\n\\nand it grew both day and night. \\ntill it bore an apple bright. \\nand my foe beheld it shine,\\nand he knew that it was mine. \\n\\nand into my garden stole, \\nwhen the night had veild the pole; \\nin the morning glad i see; \\nmy foe outstretched beneath the tree.'"
      ]
     },
     "execution_count": 46,
     "metadata": {},
     "output_type": "execute_result"
    }
   ],
   "source": [
    "poem_low = poem.lower()\n",
    "poem_low"
   ]
  },
  {
   "cell_type": "code",
   "execution_count": 41,
   "metadata": {},
   "outputs": [],
   "source": []
  },
  {
   "cell_type": "code",
   "execution_count": 43,
   "metadata": {},
   "outputs": [
    {
     "name": "stdout",
     "output_type": "stream",
     "text": [
      "{'i is not on the blacklist'}\n",
      "{'  is not on the blacklist'}\n",
      "{'w is not on the blacklist'}\n",
      "{'a is on the blacklist'}\n",
      "{'s is not on the blacklist'}\n",
      "{'  is not on the blacklist'}\n",
      "{'a is on the blacklist'}\n",
      "{'n is not on the blacklist'}\n",
      "{'g is not on the blacklist'}\n",
      "{'r is not on the blacklist'}\n",
      "{'y is not on the blacklist'}\n",
      "{'  is not on the blacklist'}\n",
      "{'w is not on the blacklist'}\n",
      "{'i is not on the blacklist'}\n",
      "{'t is not on the blacklist'}\n",
      "{'h is not on the blacklist'}\n",
      "{'  is not on the blacklist'}\n",
      "{'m is not on the blacklist'}\n",
      "{'y is not on the blacklist'}\n",
      "{'  is not on the blacklist'}\n",
      "{'f is not on the blacklist'}\n",
      "{'r is not on the blacklist'}\n",
      "{'i is not on the blacklist'}\n",
      "{'e is not on the blacklist'}\n",
      "{'n is not on the blacklist'}\n",
      "{'d is not on the blacklist'}\n",
      "{'; is not on the blacklist'}\n",
      "{'  is not on the blacklist'}\n",
      "{'\\n is not on the blacklist'}\n",
      "{'i is not on the blacklist'}\n",
      "{'  is not on the blacklist'}\n",
      "{'t is not on the blacklist'}\n",
      "{'o is not on the blacklist'}\n",
      "{'l is not on the blacklist'}\n",
      "{'d is not on the blacklist'}\n",
      "{'  is not on the blacklist'}\n",
      "{'m is not on the blacklist'}\n",
      "{'y is not on the blacklist'}\n",
      "{'  is not on the blacklist'}\n",
      "{'w is not on the blacklist'}\n",
      "{'r is not on the blacklist'}\n",
      "{'a is on the blacklist'}\n",
      "{'t is not on the blacklist'}\n",
      "{'h is not on the blacklist'}\n",
      "{', is not on the blacklist'}\n",
      "{'  is not on the blacklist'}\n",
      "{'m is not on the blacklist'}\n",
      "{'y is not on the blacklist'}\n",
      "{'  is not on the blacklist'}\n",
      "{'w is not on the blacklist'}\n",
      "{'r is not on the blacklist'}\n",
      "{'a is on the blacklist'}\n",
      "{'t is not on the blacklist'}\n",
      "{'h is not on the blacklist'}\n",
      "{'  is not on the blacklist'}\n",
      "{'d is not on the blacklist'}\n",
      "{'i is not on the blacklist'}\n",
      "{'d is not on the blacklist'}\n",
      "{'  is not on the blacklist'}\n",
      "{'e is not on the blacklist'}\n",
      "{'n is not on the blacklist'}\n",
      "{'d is not on the blacklist'}\n",
      "{'. is not on the blacklist'}\n",
      "{'\\n is not on the blacklist'}\n",
      "{'i is not on the blacklist'}\n",
      "{'  is not on the blacklist'}\n",
      "{'w is not on the blacklist'}\n",
      "{'a is on the blacklist'}\n",
      "{'s is not on the blacklist'}\n",
      "{'  is not on the blacklist'}\n",
      "{'a is on the blacklist'}\n",
      "{'n is not on the blacklist'}\n",
      "{'g is not on the blacklist'}\n",
      "{'r is not on the blacklist'}\n",
      "{'y is not on the blacklist'}\n",
      "{'  is not on the blacklist'}\n",
      "{'w is not on the blacklist'}\n",
      "{'i is not on the blacklist'}\n",
      "{'t is not on the blacklist'}\n",
      "{'h is not on the blacklist'}\n",
      "{'  is not on the blacklist'}\n",
      "{'m is not on the blacklist'}\n",
      "{'y is not on the blacklist'}\n",
      "{'  is not on the blacklist'}\n",
      "{'f is not on the blacklist'}\n",
      "{'o is not on the blacklist'}\n",
      "{'e is not on the blacklist'}\n",
      "{': is not on the blacklist'}\n",
      "{'  is not on the blacklist'}\n",
      "{'\\n is not on the blacklist'}\n",
      "{'i is not on the blacklist'}\n",
      "{'  is not on the blacklist'}\n",
      "{'t is not on the blacklist'}\n",
      "{'o is not on the blacklist'}\n",
      "{'l is not on the blacklist'}\n",
      "{'d is not on the blacklist'}\n",
      "{'  is not on the blacklist'}\n",
      "{'i is not on the blacklist'}\n",
      "{'t is not on the blacklist'}\n",
      "{'  is not on the blacklist'}\n",
      "{'n is not on the blacklist'}\n",
      "{'o is not on the blacklist'}\n",
      "{'t is not on the blacklist'}\n",
      "{', is not on the blacklist'}\n",
      "{'  is not on the blacklist'}\n",
      "{'m is not on the blacklist'}\n",
      "{'y is not on the blacklist'}\n",
      "{'  is not on the blacklist'}\n",
      "{'w is not on the blacklist'}\n",
      "{'r is not on the blacklist'}\n",
      "{'a is on the blacklist'}\n",
      "{'t is not on the blacklist'}\n",
      "{'h is not on the blacklist'}\n",
      "{'  is not on the blacklist'}\n",
      "{'d is not on the blacklist'}\n",
      "{'i is not on the blacklist'}\n",
      "{'d is not on the blacklist'}\n",
      "{'  is not on the blacklist'}\n",
      "{'g is not on the blacklist'}\n",
      "{'r is not on the blacklist'}\n",
      "{'o is not on the blacklist'}\n",
      "{'w is not on the blacklist'}\n",
      "{'. is not on the blacklist'}\n",
      "{'  is not on the blacklist'}\n",
      "{'\\n is not on the blacklist'}\n",
      "{'\\n is not on the blacklist'}\n",
      "{'a is on the blacklist'}\n",
      "{'n is not on the blacklist'}\n",
      "{'d is not on the blacklist'}\n",
      "{'  is not on the blacklist'}\n",
      "{'i is not on the blacklist'}\n",
      "{'  is not on the blacklist'}\n",
      "{'w is not on the blacklist'}\n",
      "{'a is on the blacklist'}\n",
      "{'t is not on the blacklist'}\n",
      "{'e is not on the blacklist'}\n",
      "{'r is not on the blacklist'}\n",
      "{'d is not on the blacklist'}\n",
      "{'  is not on the blacklist'}\n",
      "{'i is not on the blacklist'}\n",
      "{'t is not on the blacklist'}\n",
      "{'  is not on the blacklist'}\n",
      "{'i is not on the blacklist'}\n",
      "{'n is not on the blacklist'}\n",
      "{'  is not on the blacklist'}\n",
      "{'f is not on the blacklist'}\n",
      "{'e is not on the blacklist'}\n",
      "{'a is on the blacklist'}\n",
      "{'r is not on the blacklist'}\n",
      "{'s is not on the blacklist'}\n",
      "{', is not on the blacklist'}\n",
      "{'\\n is not on the blacklist'}\n",
      "{'n is not on the blacklist'}\n",
      "{'i is not on the blacklist'}\n",
      "{'g is not on the blacklist'}\n",
      "{'h is not on the blacklist'}\n",
      "{'t is not on the blacklist'}\n",
      "{'  is not on the blacklist'}\n",
      "{'& is not on the blacklist'}\n",
      "{'  is not on the blacklist'}\n",
      "{'m is not on the blacklist'}\n",
      "{'o is not on the blacklist'}\n",
      "{'r is not on the blacklist'}\n",
      "{'n is not on the blacklist'}\n",
      "{'i is not on the blacklist'}\n",
      "{'n is not on the blacklist'}\n",
      "{'g is not on the blacklist'}\n",
      "{'  is not on the blacklist'}\n",
      "{'w is not on the blacklist'}\n",
      "{'i is not on the blacklist'}\n",
      "{'t is not on the blacklist'}\n",
      "{'h is not on the blacklist'}\n",
      "{'  is not on the blacklist'}\n",
      "{'m is not on the blacklist'}\n",
      "{'y is not on the blacklist'}\n",
      "{'  is not on the blacklist'}\n",
      "{'t is not on the blacklist'}\n",
      "{'e is not on the blacklist'}\n",
      "{'a is on the blacklist'}\n",
      "{'r is not on the blacklist'}\n",
      "{'s is not on the blacklist'}\n",
      "{': is not on the blacklist'}\n",
      "{'  is not on the blacklist'}\n",
      "{'\\n is not on the blacklist'}\n",
      "{'a is on the blacklist'}\n",
      "{'n is not on the blacklist'}\n",
      "{'d is not on the blacklist'}\n",
      "{'  is not on the blacklist'}\n",
      "{'i is not on the blacklist'}\n",
      "{'  is not on the blacklist'}\n",
      "{'s is not on the blacklist'}\n",
      "{'u is not on the blacklist'}\n",
      "{'n is not on the blacklist'}\n",
      "{'n is not on the blacklist'}\n",
      "{'e is not on the blacklist'}\n",
      "{'d is not on the blacklist'}\n",
      "{'  is not on the blacklist'}\n",
      "{'i is not on the blacklist'}\n",
      "{'t is not on the blacklist'}\n",
      "{'  is not on the blacklist'}\n",
      "{'w is not on the blacklist'}\n",
      "{'i is not on the blacklist'}\n",
      "{'t is not on the blacklist'}\n",
      "{'h is not on the blacklist'}\n",
      "{'  is not on the blacklist'}\n",
      "{'s is not on the blacklist'}\n",
      "{'m is not on the blacklist'}\n",
      "{'i is not on the blacklist'}\n",
      "{'l is not on the blacklist'}\n",
      "{'e is not on the blacklist'}\n",
      "{'s is not on the blacklist'}\n",
      "{', is not on the blacklist'}\n",
      "{'\\n is not on the blacklist'}\n",
      "{'a is on the blacklist'}\n",
      "{'n is not on the blacklist'}\n",
      "{'d is not on the blacklist'}\n",
      "{'  is not on the blacklist'}\n",
      "{'w is not on the blacklist'}\n",
      "{'i is not on the blacklist'}\n",
      "{'t is not on the blacklist'}\n",
      "{'h is not on the blacklist'}\n",
      "{'  is not on the blacklist'}\n",
      "{'s is not on the blacklist'}\n",
      "{'o is not on the blacklist'}\n",
      "{'f is not on the blacklist'}\n",
      "{'t is not on the blacklist'}\n",
      "{'  is not on the blacklist'}\n",
      "{'d is not on the blacklist'}\n",
      "{'e is not on the blacklist'}\n",
      "{'c is not on the blacklist'}\n",
      "{'e is not on the blacklist'}\n",
      "{'i is not on the blacklist'}\n",
      "{'t is not on the blacklist'}\n",
      "{'f is not on the blacklist'}\n",
      "{'u is not on the blacklist'}\n",
      "{'l is not on the blacklist'}\n",
      "{'  is not on the blacklist'}\n",
      "{'w is not on the blacklist'}\n",
      "{'i is not on the blacklist'}\n",
      "{'l is not on the blacklist'}\n",
      "{'e is not on the blacklist'}\n",
      "{'s is not on the blacklist'}\n",
      "{'. is not on the blacklist'}\n",
      "{'  is not on the blacklist'}\n",
      "{'\\n is not on the blacklist'}\n",
      "{'\\n is not on the blacklist'}\n",
      "{'a is on the blacklist'}\n",
      "{'n is not on the blacklist'}\n",
      "{'d is not on the blacklist'}\n",
      "{'  is not on the blacklist'}\n",
      "{'i is not on the blacklist'}\n",
      "{'t is not on the blacklist'}\n",
      "{'  is not on the blacklist'}\n",
      "{'g is not on the blacklist'}\n",
      "{'r is not on the blacklist'}\n",
      "{'e is not on the blacklist'}\n",
      "{'w is not on the blacklist'}\n",
      "{'  is not on the blacklist'}\n",
      "{'b is not on the blacklist'}\n",
      "{'o is not on the blacklist'}\n",
      "{'t is not on the blacklist'}\n",
      "{'h is not on the blacklist'}\n",
      "{'  is not on the blacklist'}\n",
      "{'d is not on the blacklist'}\n",
      "{'a is on the blacklist'}\n",
      "{'y is not on the blacklist'}\n",
      "{'  is not on the blacklist'}\n",
      "{'a is on the blacklist'}\n",
      "{'n is not on the blacklist'}\n",
      "{'d is not on the blacklist'}\n",
      "{'  is not on the blacklist'}\n",
      "{'n is not on the blacklist'}\n",
      "{'i is not on the blacklist'}\n",
      "{'g is not on the blacklist'}\n",
      "{'h is not on the blacklist'}\n",
      "{'t is not on the blacklist'}\n",
      "{'. is not on the blacklist'}\n",
      "{'  is not on the blacklist'}\n",
      "{'\\n is not on the blacklist'}\n",
      "{'t is not on the blacklist'}\n",
      "{'i is not on the blacklist'}\n",
      "{'l is not on the blacklist'}\n",
      "{'l is not on the blacklist'}\n",
      "{'  is not on the blacklist'}\n",
      "{'i is not on the blacklist'}\n",
      "{'t is not on the blacklist'}\n",
      "{'  is not on the blacklist'}\n",
      "{'b is not on the blacklist'}\n",
      "{'o is not on the blacklist'}\n",
      "{'r is not on the blacklist'}\n",
      "{'e is not on the blacklist'}\n",
      "{'  is not on the blacklist'}\n",
      "{'a is on the blacklist'}\n",
      "{'n is not on the blacklist'}\n",
      "{'  is not on the blacklist'}\n",
      "{'a is on the blacklist'}\n",
      "{'p is not on the blacklist'}\n",
      "{'p is not on the blacklist'}\n",
      "{'l is not on the blacklist'}\n",
      "{'e is not on the blacklist'}\n",
      "{'  is not on the blacklist'}\n",
      "{'b is not on the blacklist'}\n",
      "{'r is not on the blacklist'}\n",
      "{'i is not on the blacklist'}\n",
      "{'g is not on the blacklist'}\n",
      "{'h is not on the blacklist'}\n",
      "{'t is not on the blacklist'}\n",
      "{'. is not on the blacklist'}\n",
      "{'  is not on the blacklist'}\n",
      "{'\\n is not on the blacklist'}\n",
      "{'a is on the blacklist'}\n",
      "{'n is not on the blacklist'}\n",
      "{'d is not on the blacklist'}\n",
      "{'  is not on the blacklist'}\n",
      "{'m is not on the blacklist'}\n",
      "{'y is not on the blacklist'}\n",
      "{'  is not on the blacklist'}\n",
      "{'f is not on the blacklist'}\n",
      "{'o is not on the blacklist'}\n",
      "{'e is not on the blacklist'}\n",
      "{'  is not on the blacklist'}\n",
      "{'b is not on the blacklist'}\n",
      "{'e is not on the blacklist'}\n",
      "{'h is not on the blacklist'}\n",
      "{'e is not on the blacklist'}\n",
      "{'l is not on the blacklist'}\n",
      "{'d is not on the blacklist'}\n",
      "{'  is not on the blacklist'}\n",
      "{'i is not on the blacklist'}\n",
      "{'t is not on the blacklist'}\n",
      "{'  is not on the blacklist'}\n",
      "{'s is not on the blacklist'}\n",
      "{'h is not on the blacklist'}\n",
      "{'i is not on the blacklist'}\n",
      "{'n is not on the blacklist'}\n",
      "{'e is not on the blacklist'}\n",
      "{', is not on the blacklist'}\n",
      "{'\\n is not on the blacklist'}\n",
      "{'a is on the blacklist'}\n",
      "{'n is not on the blacklist'}\n",
      "{'d is not on the blacklist'}\n",
      "{'  is not on the blacklist'}\n",
      "{'h is not on the blacklist'}\n",
      "{'e is not on the blacklist'}\n",
      "{'  is not on the blacklist'}\n",
      "{'k is not on the blacklist'}\n",
      "{'n is not on the blacklist'}\n",
      "{'e is not on the blacklist'}\n",
      "{'w is not on the blacklist'}\n",
      "{'  is not on the blacklist'}\n",
      "{'t is not on the blacklist'}\n",
      "{'h is not on the blacklist'}\n",
      "{'a is on the blacklist'}\n",
      "{'t is not on the blacklist'}\n",
      "{'  is not on the blacklist'}\n",
      "{'i is not on the blacklist'}\n",
      "{'t is not on the blacklist'}\n",
      "{'  is not on the blacklist'}\n",
      "{'w is not on the blacklist'}\n",
      "{'a is on the blacklist'}\n",
      "{'s is not on the blacklist'}\n",
      "{'  is not on the blacklist'}\n",
      "{'m is not on the blacklist'}\n",
      "{'i is not on the blacklist'}\n",
      "{'n is not on the blacklist'}\n",
      "{'e is not on the blacklist'}\n",
      "{'. is not on the blacklist'}\n",
      "{'  is not on the blacklist'}\n",
      "{'\\n is not on the blacklist'}\n",
      "{'\\n is not on the blacklist'}\n",
      "{'a is on the blacklist'}\n",
      "{'n is not on the blacklist'}\n",
      "{'d is not on the blacklist'}\n",
      "{'  is not on the blacklist'}\n",
      "{'i is not on the blacklist'}\n",
      "{'n is not on the blacklist'}\n",
      "{'t is not on the blacklist'}\n",
      "{'o is not on the blacklist'}\n",
      "{'  is not on the blacklist'}\n",
      "{'m is not on the blacklist'}\n",
      "{'y is not on the blacklist'}\n",
      "{'  is not on the blacklist'}\n",
      "{'g is not on the blacklist'}\n",
      "{'a is on the blacklist'}\n",
      "{'r is not on the blacklist'}\n",
      "{'d is not on the blacklist'}\n",
      "{'e is not on the blacklist'}\n",
      "{'n is not on the blacklist'}\n",
      "{'  is not on the blacklist'}\n",
      "{'s is not on the blacklist'}\n",
      "{'t is not on the blacklist'}\n",
      "{'o is not on the blacklist'}\n",
      "{'l is not on the blacklist'}\n",
      "{'e is not on the blacklist'}\n",
      "{', is not on the blacklist'}\n",
      "{'  is not on the blacklist'}\n",
      "{'\\n is not on the blacklist'}\n",
      "{'w is not on the blacklist'}\n",
      "{'h is not on the blacklist'}\n",
      "{'e is not on the blacklist'}\n",
      "{'n is not on the blacklist'}\n",
      "{'  is not on the blacklist'}\n",
      "{'t is not on the blacklist'}\n",
      "{'h is not on the blacklist'}\n",
      "{'e is not on the blacklist'}\n",
      "{'  is not on the blacklist'}\n",
      "{'n is not on the blacklist'}\n",
      "{'i is not on the blacklist'}\n",
      "{'g is not on the blacklist'}\n",
      "{'h is not on the blacklist'}\n",
      "{'t is not on the blacklist'}\n",
      "{'  is not on the blacklist'}\n",
      "{'h is not on the blacklist'}\n",
      "{'a is on the blacklist'}\n",
      "{'d is not on the blacklist'}\n",
      "{'  is not on the blacklist'}\n",
      "{'v is not on the blacklist'}\n",
      "{'e is not on the blacklist'}\n",
      "{'i is not on the blacklist'}\n",
      "{'l is not on the blacklist'}\n",
      "{'d is not on the blacklist'}\n",
      "{'  is not on the blacklist'}\n",
      "{'t is not on the blacklist'}\n",
      "{'h is not on the blacklist'}\n",
      "{'e is not on the blacklist'}\n",
      "{'  is not on the blacklist'}\n",
      "{'p is not on the blacklist'}\n",
      "{'o is not on the blacklist'}\n",
      "{'l is not on the blacklist'}\n",
      "{'e is not on the blacklist'}\n",
      "{'; is not on the blacklist'}\n",
      "{'  is not on the blacklist'}\n",
      "{'\\n is not on the blacklist'}\n",
      "{'i is not on the blacklist'}\n",
      "{'n is not on the blacklist'}\n",
      "{'  is not on the blacklist'}\n",
      "{'t is not on the blacklist'}\n",
      "{'h is not on the blacklist'}\n",
      "{'e is not on the blacklist'}\n",
      "{'  is not on the blacklist'}\n",
      "{'m is not on the blacklist'}\n",
      "{'o is not on the blacklist'}\n",
      "{'r is not on the blacklist'}\n",
      "{'n is not on the blacklist'}\n",
      "{'i is not on the blacklist'}\n",
      "{'n is not on the blacklist'}\n",
      "{'g is not on the blacklist'}\n",
      "{'  is not on the blacklist'}\n",
      "{'g is not on the blacklist'}\n",
      "{'l is not on the blacklist'}\n",
      "{'a is on the blacklist'}\n",
      "{'d is not on the blacklist'}\n",
      "{'  is not on the blacklist'}\n",
      "{'i is not on the blacklist'}\n",
      "{'  is not on the blacklist'}\n",
      "{'s is not on the blacklist'}\n",
      "{'e is not on the blacklist'}\n",
      "{'e is not on the blacklist'}\n",
      "{'; is not on the blacklist'}\n",
      "{'  is not on the blacklist'}\n",
      "{'\\n is not on the blacklist'}\n",
      "{'m is not on the blacklist'}\n",
      "{'y is not on the blacklist'}\n",
      "{'  is not on the blacklist'}\n",
      "{'f is not on the blacklist'}\n",
      "{'o is not on the blacklist'}\n",
      "{'e is not on the blacklist'}\n",
      "{'  is not on the blacklist'}\n",
      "{'o is not on the blacklist'}\n",
      "{'u is not on the blacklist'}\n",
      "{'t is not on the blacklist'}\n",
      "{'s is not on the blacklist'}\n",
      "{'t is not on the blacklist'}\n",
      "{'r is not on the blacklist'}\n",
      "{'e is not on the blacklist'}\n",
      "{'t is not on the blacklist'}\n",
      "{'c is not on the blacklist'}\n",
      "{'h is not on the blacklist'}\n",
      "{'e is not on the blacklist'}\n",
      "{'d is not on the blacklist'}\n",
      "{'  is not on the blacklist'}\n",
      "{'b is not on the blacklist'}\n",
      "{'e is not on the blacklist'}\n",
      "{'n is not on the blacklist'}\n",
      "{'e is not on the blacklist'}\n",
      "{'a is on the blacklist'}\n",
      "{'t is not on the blacklist'}\n",
      "{'h is not on the blacklist'}\n",
      "{'  is not on the blacklist'}\n",
      "{'t is not on the blacklist'}\n",
      "{'h is not on the blacklist'}\n",
      "{'e is not on the blacklist'}\n",
      "{'  is not on the blacklist'}\n",
      "{'t is not on the blacklist'}\n",
      "{'r is not on the blacklist'}\n",
      "{'e is not on the blacklist'}\n",
      "{'e is not on the blacklist'}\n",
      "{'. is not on the blacklist'}\n"
     ]
    }
   ],
   "source": [
    "for p in poem_lower:\n",
    "    if p in blacklist:\n",
    "        print({f'{p} is on the blacklist'})\n",
    "    else:\n",
    "        print({f'{p} is not on the blacklist'})\n"
   ]
  },
  {
   "cell_type": "markdown",
   "metadata": {},
   "source": [
    "# Challenge 3 - Regular Expressions\n",
    "\n",
    "Sometimes, we would like to perform more complex manipulations of our string. This is where regular expressions come in handy. In the cell below, return all characters that are upper case from the string specified below."
   ]
  },
  {
   "cell_type": "code",
   "execution_count": null,
   "metadata": {},
   "outputs": [],
   "source": [
    "poem = \"\"\"The apparition of these faces in the crowd;\n",
    "Petals on a wet, black bough.\"\"\"\n",
    "\n",
    "# Your code here:\n"
   ]
  },
  {
   "cell_type": "markdown",
   "metadata": {},
   "source": [
    "In the cell below, filter the list provided and return all elements of the list containing a number. To filter the list, use the `re.search` function. Check if the function does not return `None`. You can read more about the `re.search` function [here](https://docs.python.org/3/library/re.html)."
   ]
  },
  {
   "cell_type": "code",
   "execution_count": null,
   "metadata": {},
   "outputs": [],
   "source": [
    "data = ['123abc', 'abc123', 'JohnSmith1', 'ABBY4', 'JANE']\n",
    "\n",
    "# Your code here:\n"
   ]
  },
  {
   "cell_type": "markdown",
   "metadata": {},
   "source": [
    "# Bonus Challenge - Regular Expressions II\n",
    "\n",
    "In the cell below, filter the list provided to keep only strings containing at least one digit and at least one lower case letter. As in the previous question, use the `re.search` function and check that the result is not `None`.\n",
    "\n",
    "To read more about regular expressions, check out [this link](https://developers.google.com/edu/python/regular-expressions)."
   ]
  },
  {
   "cell_type": "code",
   "execution_count": null,
   "metadata": {},
   "outputs": [],
   "source": [
    "data = ['123abc', 'abc123', 'JohnSmith1', 'ABBY4', 'JANE']\n",
    "# Your code here:\n"
   ]
  }
 ],
 "metadata": {
  "kernelspec": {
   "display_name": "Python 3",
   "language": "python",
   "name": "python3"
  },
  "language_info": {
   "codemirror_mode": {
    "name": "ipython",
    "version": 3
   },
   "file_extension": ".py",
   "mimetype": "text/x-python",
   "name": "python",
   "nbconvert_exporter": "python",
   "pygments_lexer": "ipython3",
   "version": "3.8.3"
  }
 },
 "nbformat": 4,
 "nbformat_minor": 2
}
